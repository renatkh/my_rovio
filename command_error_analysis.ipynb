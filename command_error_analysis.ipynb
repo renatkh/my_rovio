{
 "cells": [
  {
   "cell_type": "code",
   "execution_count": 33,
   "metadata": {},
   "outputs": [
    {
     "name": "stdout",
     "output_type": "stream",
     "text": [
      "Train Data\n",
      "Command accuracy 0: 0.5238095238095238, out of 21\n",
      "Command accuracy 1: 0.47058823529411764, out of 17\n",
      "Command accuracy 2: 0.6666666666666666, out of 21\n",
      "Command accuracy 3: 0.5454545454545454, out of 22\n",
      "Command accuracy 4: 0.47368421052631576, out of 19\n",
      "Command accuracy 5: 0.7647058823529411, out of 17\n",
      "Command accuracy 6: 0.5, out of 18\n",
      "Command accuracy 7: 0.0, out of 19\n",
      "Command accuracy 8: 0.391304347826087, out of 23\n",
      "Command accuracy 9: 0.6521739130434783, out of 23\n",
      "==================================================\n",
      "Validation Data\n",
      "Command accuracy 0: 0.21428571428571427, out of 14\n",
      "Command accuracy 1: 0.0, out of 8\n",
      "Command accuracy 2: 0.07692307692307693, out of 13\n",
      "Command accuracy 3: 0.4, out of 10\n",
      "Command accuracy 4: 0.42857142857142855, out of 7\n",
      "Command accuracy 5: 0.42857142857142855, out of 14\n",
      "Command accuracy 6: 0.0, out of 9\n",
      "Command accuracy 7: 0.0, out of 11\n",
      "Command accuracy 8: 0.0, out of 8\n",
      "Command accuracy 9: 0.6666666666666666, out of 6\n"
     ]
    }
   ],
   "source": [
    "from model.model import ImageCommandConverter\n",
    "from model.train_model import data_transforms\n",
    "import numpy as np\n",
    "from model.data_set import get_datasets, ImageDataSet\n",
    "from torch.utils.data import DataLoader\n",
    "\n",
    "\n",
    "check_path = 'checkpoints/lightning_logs/version_1/checkpoints/epoch=44-step=89.ckpt'\n",
    "model = ImageCommandConverter.load_from_checkpoint(check_path).eval()\n",
    "\n",
    "\n",
    "train_set, val_set = get_datasets()\n",
    "print('Train Data')\n",
    "train_dataset = ImageDataSet(train_set, transform=data_transforms['validation'])\n",
    "train_loader = DataLoader(train_dataset, batch_size=100,\n",
    "                            shuffle=True,\n",
    "                            num_workers=0)\n",
    "res = {v: [0, 0] for v in range(10)}\n",
    "for item in train_loader:\n",
    "    x, t = item\n",
    "    t_h = model(x)\n",
    "    pred_command = np.argmax(t_h.detach().numpy()[:,:10], axis=1)\n",
    "    expected_command = t.detach().numpy()[:,0].astype(int)\n",
    "    vs, counts = np.unique(expected_command, return_counts=True)\n",
    "    for v, c in zip(vs, counts):\n",
    "        res[v][0] += c\n",
    "    vs, counts = np.unique(expected_command[np.where(pred_command == expected_command)], return_counts=True)\n",
    "    for v, c in zip(vs, counts):\n",
    "        res[v][1] += c\n",
    "for v in res:\n",
    "    print(f'Command accuracy {v}: {res[v][1]/res[v][0]}, out of {res[v][0]}')\n",
    "print('='*50)\n",
    "print('Validation Data')\n",
    "val_dataset = ImageDataSet(val_set, transform=data_transforms['validation'])\n",
    "val_loader = DataLoader(val_dataset, batch_size=100,\n",
    "                            shuffle=True,\n",
    "                            num_workers=0)\n",
    "res = {v: [0, 0] for v in range(10)}\n",
    "for item in val_loader:\n",
    "    x, t = item\n",
    "    t_h = model(x)\n",
    "    pred_command = np.argmax(t_h.detach().numpy()[:,:10], axis=1)\n",
    "    expected_command = t.detach().numpy()[:,0].astype(int)\n",
    "    vs, counts = np.unique(expected_command, return_counts=True)\n",
    "    for v, c in zip(vs, counts):\n",
    "        res[v][0] += c\n",
    "    vs, counts = np.unique(expected_command[np.where(pred_command == expected_command)], return_counts=True)\n",
    "    for v, c in zip(vs, counts):\n",
    "        res[v][1] += c\n",
    "for v in res:\n",
    "    print(f'Command accuracy {v}: {res[v][1]/res[v][0]}, out of {res[v][0]}')"
   ]
  },
  {
   "cell_type": "code",
   "execution_count": null,
   "metadata": {},
   "outputs": [],
   "source": []
  }
 ],
 "metadata": {
  "kernelspec": {
   "display_name": "torch",
   "language": "python",
   "name": "python3"
  },
  "language_info": {
   "codemirror_mode": {
    "name": "ipython",
    "version": 3
   },
   "file_extension": ".py",
   "mimetype": "text/x-python",
   "name": "python",
   "nbconvert_exporter": "python",
   "pygments_lexer": "ipython3",
   "version": "3.9.13"
  },
  "orig_nbformat": 4
 },
 "nbformat": 4,
 "nbformat_minor": 2
}
